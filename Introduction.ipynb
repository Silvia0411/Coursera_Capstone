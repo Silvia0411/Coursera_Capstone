{
 "cells": [
  {
   "cell_type": "markdown",
   "metadata": {},
   "source": [
    "# Introduction\n",
    "Every city has a lot of restaurants, but still there is always scope for new ones. Setting up a new restaurant requires a lot of capital investment upfront. So it is important that all measures are taken to ensure that a restaurant is a success. One of the important factors that determine the success of a restaurant is it's location along with the quality of service and food serviced in it. The location chosen for a new restaurant should primarily meet the below criteria.\n",
    "\n",
    "1. A location that has more number of restaurants as that implies a good demand for restaurants. \n",
    "2. A location that has no strong incumbent player or very little competition.\n",
    "3. A location that is in close proximity of affluent neighborhoods.\n",
    "\n",
    "This project aims to analyze the neighborhoods of Manhattan and Brooklyn to find a location that is most suitable to start a new Asian cuisine restaurant."
   ]
  },
  {
   "cell_type": "code",
   "execution_count": null,
   "metadata": {},
   "outputs": [],
   "source": []
  }
 ],
 "metadata": {
  "kernelspec": {
   "display_name": "Python 3",
   "language": "python",
   "name": "python3"
  },
  "language_info": {
   "codemirror_mode": {
    "name": "ipython",
    "version": 3
   },
   "file_extension": ".py",
   "mimetype": "text/x-python",
   "name": "python",
   "nbconvert_exporter": "python",
   "pygments_lexer": "ipython3",
   "version": "3.6.5"
  }
 },
 "nbformat": 4,
 "nbformat_minor": 2
}
