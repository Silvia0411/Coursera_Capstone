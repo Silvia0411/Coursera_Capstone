{
 "cells": [
  {
   "cell_type": "markdown",
   "metadata": {},
   "source": [
    "# Data\n",
    "\n",
    "The data that will be used in this solution is from a json file available at <a href='https://ibm.box.com/shared/static/fbpwbovar7lf8p5sgddm06cgipa2rxpe.json'>https://ibm.box.com/shared/static/fbpwbovar7lf8p5sgddm06cgipa2rxpe.json</a>. The json file has the data related to all neighborhoods in the city of NewYork.\n",
    "\n",
    "The json data is converted to a pandas dataframe. The data is cleaned to have only the required data in the dataframe. The dataframe has the details of the Boroughs, Neighborhoods, Latitudes, and Longitudes details of the neighborhoods in the city of New York.\n",
    "\n",
    "In this project we will be focusing on Manahattan and Brooklyn to find the best location to start an Asian restaurant. So, the neighborhoods dataframe is further refined to form 2 dataframes one each for Manhattan and Brooklyn neighborhoods.\n",
    "\n",
    "Geopy library is used to get the latitude and longitude of Manhattan and Brooklyn. Folium is used to visualize the neighborhoods in Manhattan and Brooklyn.\n",
    "\n",
    "We explore the neighborhoods using Foursquare API to find the venues within 500 meters of each neighborhood in Manhattan and Brooklyn. The Foursquare API that will be used to explore the neighborhoods is https://api.foursquare.com/v2/venues/explore. An example of the API call is https://api.foursquare.com/v2/venues/explore?&client_id=XXXXX&client_secret=XXXX&v=20180605&ll=40.87655077879964,-73.91065965862981&radius=500&limit=10. This API returns json response which will be transformed into a dataframe, taking only the required details into consideration. The venues in the neighborhoods are further worked on to get a count of restaurants in each neighborhood. From the list of restaurants, we arrive at the count of Asian restaurants in each neighborhood.\n",
    "\n"
   ]
  },
  {
   "cell_type": "code",
   "execution_count": null,
   "metadata": {},
   "outputs": [],
   "source": []
  }
 ],
 "metadata": {
  "kernelspec": {
   "display_name": "Python 3",
   "language": "python",
   "name": "python3"
  },
  "language_info": {
   "codemirror_mode": {
    "name": "ipython",
    "version": 3
   },
   "file_extension": ".py",
   "mimetype": "text/x-python",
   "name": "python",
   "nbconvert_exporter": "python",
   "pygments_lexer": "ipython3",
   "version": "3.6.5"
  }
 },
 "nbformat": 4,
 "nbformat_minor": 2
}
